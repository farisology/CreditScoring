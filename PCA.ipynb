{
 "cells": [
  {
   "cell_type": "markdown",
   "metadata": {},
   "source": [
    "**Have you asked yourself why am I going to use PCA?**\n",
    "\n",
    "We know from the previous attempts that :\n",
    "- Our model overfits.\n",
    "- There are outliers.\n",
    "- There is some dependancy in between some fo the feautres.\n",
    "\n",
    "**Will PCA solve all of these problems?**\n",
    "\n",
    "*No, PCA will reduce the dimensionality but it doesn't gurantee that it will solve all the issue with the model. The most important part is that PCA is a step in the right direction.*\n",
    "\n",
    "#### Here we start from the point where PCA can be applied \n"
   ]
  },
  {
   "cell_type": "code",
   "execution_count": 2,
   "metadata": {},
   "outputs": [],
   "source": [
    "import numpy as np # linear algebra\n",
    "import pandas as pd # data processing, CSV file I/O (e.g. pd.read_csv)\n",
    "import matplotlib.pyplot as plt\n",
    "import seaborn as se\n",
    "from sklearn.model_selection import train_test_split\n",
    "\n",
    "\n",
    "%matplotlib inline\n",
    "\n",
    "data = pd.read_csv('training.csv')\n",
    "data = data.drop('Unnamed: 0', axis=1)\n",
    "\n",
    "data = data.fillna(data.mean())\n",
    "\n",
    "# Separating train and test samples by 30 for the testing \n",
    "\n",
    "X = data [['RevolvingUtilizationOfUnsecuredLines', 'age',\n",
    "          'NumberOfTime30-59DaysPastDueNotWorse', 'DebtRatio', 'MonthlyIncome',\n",
    "          'NumberOfOpenCreditLinesAndLoans', 'NumberOfTimes90DaysLate',\n",
    "          'NumberRealEstateLoansOrLines', 'NumberOfTime60-89DaysPastDueNotWorse',\n",
    "          'NumberOfDependents']]\n",
    "y = data [['SeriousDlqin2yrs']]"
   ]
  },
  {
   "cell_type": "markdown",
   "metadata": {},
   "source": [
    "*I hope you know that there are multiple ways in which we can reduce the dimensions of our feature space. In general they fall in two categories:*\n",
    "\n",
    "- Feature Elemination.\n",
    "- Feature Extraction.\n",
    "\n",
    "When we eleminate feautres we basically remove/drop/get rid of some features. It is a simple approach and easy to implement, but the drawback is that we gain no information from such method. If you drop them then you have exclude said features.\n",
    "\n",
    "Extracting feautres however is creating new varibales in a way and order that remove dependency between our features. The new feautres are engineered in a way that "
   ]
  },
  {
   "cell_type": "code",
   "execution_count": null,
   "metadata": {},
   "outputs": [],
   "source": []
  }
 ],
 "metadata": {
  "kernelspec": {
   "display_name": "Python 3",
   "language": "python",
   "name": "python3"
  },
  "language_info": {
   "codemirror_mode": {
    "name": "ipython",
    "version": 3
   },
   "file_extension": ".py",
   "mimetype": "text/x-python",
   "name": "python",
   "nbconvert_exporter": "python",
   "pygments_lexer": "ipython3",
   "version": "3.5.5"
  }
 },
 "nbformat": 4,
 "nbformat_minor": 2
}
